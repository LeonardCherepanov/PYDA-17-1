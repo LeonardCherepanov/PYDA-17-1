{
 "cells": [
  {
   "cell_type": "code",
   "execution_count": 9,
   "metadata": {},
   "outputs": [
    {
     "name": "stdout",
     "output_type": "stream",
     "text": [
      "Желаешь разбогатеть, друг? Как тебя зовут?\n",
      "10\n",
      "Ну тогда приступим? 10, я загадал число от одного до 20\n",
      "Как ты думаешь, какое?\n",
      "10\n",
      "Мое число меньше твоего\n",
      "Как ты думаешь, какое?\n",
      "5\n",
      "Мое число больше твоего\n",
      "Как ты думаешь, какое?\n",
      "7\n",
      "Мое число больше твоего\n",
      "Как ты думаешь, какое?\n",
      "8\n",
      "Мое число больше твоего\n",
      "Жаль, но у тебя не осталось попыток. Я загадал число 9. Ты проиграл… Эй! Вы! Двое! Живо! Снимите ка с него шкуру!\n"
     ]
    }
   ],
   "source": [
    "# Это программа «Угадай число»\n",
    "import random\n",
    "guessesTaken = 0\n",
    "print('Желаешь разбогатеть, друг? Как тебя зовут?')\n",
    "myName = input()\n",
    "number = random.randint(1,20)\n",
    "print('Ну тогда приступим? '+myName+', я загадал число от одного до 20')\n",
    "while guessesTaken < 4:\n",
    "    print('Как ты думаешь, какое?') #Перед функцией print() должно быть 4 пробела\n",
    "    guess = input()\n",
    "    guess = int(guess)\n",
    "    guessesTaken = guessesTaken+1\n",
    "    if guess < number:\n",
    "        print('Мое число больше твоего') #Перед функцией print() должно быть 8 пробелов\n",
    "    if guess > number:\n",
    "        print('Мое число меньше твоего')\n",
    "    if guess == number:\n",
    "        break\n",
    "if guess == number:\n",
    "    guessesTaken = str(guessesTaken)\n",
    "    print('Превосходно '+myName+'! Ты угадал число с '+guessesTaken+' попытки. Твой выигрыш 10 очков.')\n",
    "if guess != number:\n",
    "    number = str(number)\n",
    "    print('Жаль, но у тебя не осталось попыток. Я загадал число '+number+'. Ты проиграл… Эй! Вы! Двое! Живо! Снимите ка с него шкуру!')"
   ]
  },
  {
   "cell_type": "code",
   "execution_count": null,
   "metadata": {},
   "outputs": [],
   "source": []
  }
 ],
 "metadata": {
  "kernelspec": {
   "display_name": "Python 3",
   "language": "python",
   "name": "python3"
  },
  "language_info": {
   "codemirror_mode": {
    "name": "ipython",
    "version": 3
   },
   "file_extension": ".py",
   "mimetype": "text/x-python",
   "name": "python",
   "nbconvert_exporter": "python",
   "pygments_lexer": "ipython3",
   "version": "3.8.5"
  }
 },
 "nbformat": 4,
 "nbformat_minor": 4
}
