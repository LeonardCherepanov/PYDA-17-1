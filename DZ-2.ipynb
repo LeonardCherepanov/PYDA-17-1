{
 "cells": [
  {
   "cell_type": "code",
   "execution_count": 6,
   "metadata": {
    "scrolled": true
   },
   "outputs": [
    {
     "name": "stdout",
     "output_type": "stream",
     "text": [
      "Leonard\n",
      "Результат: n\n"
     ]
    }
   ],
   "source": [
    "word = input()\n",
    "if len(word) % 2 == 0:\n",
    "    print('Результат:',word[int(len(word)/2)-1]+word[int(len(word)/2)])\n",
    "else:\n",
    "    print('Результат:',word[int(len(word)/2)])"
   ]
  },
  {
   "cell_type": "code",
   "execution_count": 24,
   "metadata": {},
   "outputs": [
    {
     "name": "stdout",
     "output_type": "stream",
     "text": [
      "1\n",
      "2\n",
      "3\n",
      "1\n",
      "0\n",
      "7\n"
     ]
    }
   ],
   "source": [
    "a = int(input())\n",
    "sum = 0\n",
    "while a != 0:\n",
    "    sum += a\n",
    "    a = int(input())\n",
    "if a == 0:\n",
    "    print(sum)"
   ]
  },
  {
   "cell_type": "code",
   "execution_count": 24,
   "metadata": {},
   "outputs": [
    {
     "name": "stdout",
     "output_type": "stream",
     "text": [
      "Alex и Emma\n",
      "Arthur и Kate\n",
      "John и Kira\n",
      "Peter и Liza\n",
      "Richard и Trisha\n"
     ]
    }
   ],
   "source": [
    "#немного... прошу прощения... \"извращенное\" решение, но по-другому пока не придумал\n",
    "boys = ['Peter', 'Alex', 'John', 'Arthur', 'Richard']\n",
    "girls = ['Kate', 'Liza', 'Kira', 'Emma', 'Trisha']\n",
    "a = sorted(boys)\n",
    "b = sorted(girls)\n",
    "x = 0\n",
    "if len(a) == len(b):\n",
    "    while x < len(a) or x < len(b):\n",
    "        print(a[x] + ' и ' + b[x])\n",
    "        x = x + 1\n",
    "else:\n",
    "    print('Внимание, кто-то может остаться без пары!')\n"
   ]
  },
  {
   "cell_type": "code",
   "execution_count": 55,
   "metadata": {},
   "outputs": [
    {
     "name": "stdout",
     "output_type": "stream",
     "text": [
      "Thailand - 74.9 C \n",
      "Germany - 56.8 C \n",
      "Russia - 38.7 C \n",
      "Poland - 53.6 C \n"
     ]
    }
   ],
   "source": [
    "countries_temperature = [\n",
    "['Thailand', [75.2, 77, 78.8, 73.4, 68, 75.2, 77]],\n",
    "['Germany', [57.2, 55.4, 59, 59, 53.6]],\n",
    "['Russia', [35.6, 37.4, 39.2, 41, 42.8, 39.2, 35.6]],\n",
    "['Poland', [50, 50, 53.6, 57.2, 55.4, 55.4]]\n",
    "]\n",
    "for country in countries_temperature:\n",
    "    print(country[0] + ' - ' + str(round((sum(country[1]))/len(country[1]),1)) + ' C ')"
   ]
  },
  {
   "cell_type": "code",
   "execution_count": 123,
   "metadata": {},
   "outputs": [
    {
     "name": "stdout",
     "output_type": "stream",
     "text": [
      "user1\n",
      "user1\n",
      "user1\n",
      "user1\n",
      "user2\n",
      "user3\n",
      "user3\n",
      "user4\n",
      "user4\n",
      "user4\n",
      "user4\n",
      "user4\n"
     ]
    }
   ],
   "source": [
    "#просьба помочь разобраться с задачей...уже пошли вторые сутки, как перебираю варианты...не могу спать)))\n",
    "stream = [\n",
    "'2018-01-01,user1,3',\n",
    "'2018-01-07,user1,4',\n",
    "'2018-03-29,user1,1',\n",
    "'2018-04-04,user1,13',\n",
    "'2018-01-05,user2,7',\n",
    "'2018-06-14,user3,4',\n",
    "'2018-07-02,user3,10',\n",
    "'2018-03-21,user4,19',\n",
    "'2018-03-22,user4,4',\n",
    "'2018-04-22,user4,8',\n",
    "'2018-05-03,user4,9',\n",
    "'2018-05-11,user4,11',\n",
    "]\n",
    "\n",
    "for user in stream:\n",
    "    print(user[11:16]) "
   ]
  },
  {
   "cell_type": "code",
   "execution_count": null,
   "metadata": {},
   "outputs": [],
   "source": []
  }
 ],
 "metadata": {
  "kernelspec": {
   "display_name": "Python 3",
   "language": "python",
   "name": "python3"
  },
  "language_info": {
   "codemirror_mode": {
    "name": "ipython",
    "version": 3
   },
   "file_extension": ".py",
   "mimetype": "text/x-python",
   "name": "python",
   "nbconvert_exporter": "python",
   "pygments_lexer": "ipython3",
   "version": "3.8.5"
  }
 },
 "nbformat": 4,
 "nbformat_minor": 4
}
