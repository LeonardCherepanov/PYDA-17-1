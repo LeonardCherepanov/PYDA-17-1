{
 "cells": [
  {
   "cell_type": "code",
   "execution_count": 72,
   "metadata": {},
   "outputs": [
    {
     "name": "stdout",
     "output_type": "stream",
     "text": [
      "Введите команду: ds\n",
      "Введите номер полки: 3\n",
      "Результат: \n",
      "Полка удалена. Текущий перечень полок: ['1', '2'].\n"
     ]
    }
   ],
   "source": [
    "documents = [\n",
    " {'type': 'passport', 'number': '2207 876234', 'name': 'Василий Гупкин'},\n",
    " {'type': 'invoice', 'number': '11-2', 'name': 'Геннадий Покемонов'},\n",
    " {'type': 'insurance', 'number': '10006', 'name': 'Аристарх Павлов'}\n",
    "]\n",
    "directories = {\n",
    " '1': ['2207 876234', '11-2'],\n",
    " '2': ['10006'],\n",
    " '3': []\n",
    "}\n",
    "\n",
    "def name_by_number(st):\n",
    "    found = 0\n",
    "    for doc in documents:\n",
    "        for key, value in doc.items():\n",
    "            if key == 'number' and value == a:\n",
    "                print(f\"Результат: \\n{doc['name']}\")\n",
    "                found = 1\n",
    "    if found == 0:\n",
    "        print('Результат: \\nДокумент не найден в базе')\n",
    "\n",
    "def shelf_by_number(st):\n",
    "    found = 0\n",
    "    for shelf, value in directories.items():\n",
    "        if b in value:\n",
    "            print(f\"Результат: \\nДокумент хранится на полке: {shelf}\")\n",
    "            found = 1\n",
    "    if found == 0:\n",
    "        print('Результат: \\nДокумент не найден в базе')\n",
    "        \n",
    "def full_info(st):\n",
    "    print('Результат: ')\n",
    "    for doc in documents:\n",
    "        for shelf, num in directories.items():\n",
    "            if doc['number'] in num:\n",
    "                print(f\"№: {doc['number']}, тип: {doc['type']}, владелец: {doc['name']} полка хранения: {shelf}\")\n",
    "                \n",
    "def add_shelf(st):\n",
    "    if c in directories.keys():\n",
    "        print(f\"Результат:\\nТакая полка уже существует. Текущий перечень полок: {list(directories.keys())}\")   \n",
    "    else:\n",
    "        directories.setdefault(c, [])\n",
    "        print(f\"Результат:\\nПолка добавлена. Текущий перечень полок: {list(directories.keys())}\")\n",
    "\n",
    "def del_shelf(st):\n",
    "    print('Результат: ')\n",
    "    if directories[d] == []:\n",
    "        del(directories[d])\n",
    "        print(f\"Полка удалена. Текущий перечень полок: {list(directories.keys())}.\")\n",
    "    else:\n",
    "        print(f\"На полке есть документы, удалите их перед удалением полки. Текущий перечень полок: {list(directories.keys())}.\")\n",
    "    \n",
    "#         print(directories[d])\n",
    "#         if shelf[1] == []:\n",
    "#             del directories[d]\n",
    "#             print(f\"Полка удалена. Текущий перечень полок: {directories.keys()}.\")\n",
    "#         else:\n",
    "#             print(f\"На полке есть документы, удалите их перед удалением полки. Текущий перечень полок: {directories.keys()}.\")\n",
    "# вылетает результат и ошибка\n",
    "\n",
    "command = input('Введите команду: ')\n",
    "\n",
    "if command == 'p':\n",
    "    a = input('Введите номер документа: ')\n",
    "    name_by_number(documents)\n",
    "elif command == 's':\n",
    "    b = input('Введите номер документа: ')\n",
    "    shelf_by_number(directories)\n",
    "elif command == 'l':\n",
    "    full_info(documents)\n",
    "elif command == 'as':\n",
    "    c = input('Введите номер полки: ')\n",
    "    add_shelf(directories)\n",
    "elif command == 'ds':\n",
    "    d = input('Введите номер полки: ')\n",
    "    del_shelf(directories)\n",
    "else:\n",
    "    print('Нет такой команды')"
   ]
  },
  {
   "cell_type": "code",
   "execution_count": null,
   "metadata": {},
   "outputs": [],
   "source": []
  },
  {
   "cell_type": "code",
   "execution_count": null,
   "metadata": {},
   "outputs": [],
   "source": []
  }
 ],
 "metadata": {
  "kernelspec": {
   "display_name": "Python 3",
   "language": "python",
   "name": "python3"
  },
  "language_info": {
   "codemirror_mode": {
    "name": "ipython",
    "version": 3
   },
   "file_extension": ".py",
   "mimetype": "text/x-python",
   "name": "python",
   "nbconvert_exporter": "python",
   "pygments_lexer": "ipython3",
   "version": "3.8.5"
  }
 },
 "nbformat": 4,
 "nbformat_minor": 4
}
