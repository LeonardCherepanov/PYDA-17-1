{
 "cells": [
  {
   "cell_type": "code",
   "execution_count": 23,
   "metadata": {},
   "outputs": [
    {
     "name": "stdout",
     "output_type": "stream",
     "text": [
      "Результат:{98, 35, 213, 54, 119, 15}\n"
     ]
    }
   ],
   "source": [
    "ids = {'user1': [213, 213, 213, 15, 213], \n",
    "       'user2': [54, 54, 119, 119, 119], \n",
    "       'user3': [213, 98, 98, 35]}\n",
    "lists = list(ids.values())\n",
    "a, b, c = lists\n",
    "aa = set(a)\n",
    "bb = set(b)\n",
    "cc = set(c)\n",
    "print('Результат:' +  str(aa | bb | cc))\n",
    "\n",
    "\n",
    "        "
   ]
  },
  {
   "cell_type": "code",
   "execution_count": 67,
   "metadata": {},
   "outputs": [
    {
     "name": "stdout",
     "output_type": "stream",
     "text": [
      "Поисковых запросов из двух слов:  42.86 %\n",
      "Поисковых запросов из трех слов:  57.14 %\n"
     ]
    }
   ],
   "source": [
    "queries = [\n",
    "    'смотреть сериалы онлайн',\n",
    "    'новости спорта',\n",
    "    'афиша кино',\n",
    "    'курс доллара',\n",
    "    'сериалы этим летом',\n",
    "    'курс по питону',\n",
    "    'сериалы про спорт',\n",
    "]\n",
    "two_word = 0\n",
    "three_word = 0\n",
    "\n",
    "for query in queries:\n",
    "    if len(query.split())==2:\n",
    "        two_word += 1\n",
    "    elif len(query.split())==3:\n",
    "        three_word += 1\n",
    "total = two_word + three_word\n",
    "\n",
    "print('Поисковых запросов, содержащих 2 слов(а): ', round((two_word / total)*100, 2), '%')\n",
    "print('Поисковых запросов, содержащих 3 слов(а): ', round((three_word / total)*100, 2), '%')"
   ]
  },
  {
   "cell_type": "code",
   "execution_count": 58,
   "metadata": {},
   "outputs": [
    {
     "name": "stdout",
     "output_type": "stream",
     "text": [
      "Поисковых запросов из 3 слова: 57.14%\n",
      "Поисковых запросов из 2 слова: 42.86%\n"
     ]
    }
   ],
   "source": [
    "# нашел такой вариант...не очень понял как задаются ключи и значения...\n",
    "queries = [\n",
    "    'смотреть сериалы онлайн',\n",
    "    'новости спорта',\n",
    "    'афиша кино',\n",
    "    'курс доллара',\n",
    "    'сериалы этим летом',\n",
    "    'курс по питону',\n",
    "    'сериалы про спорт',\n",
    "]\n",
    "storage = {}\n",
    "\n",
    "for query in queries:\n",
    "    words = query.split()\n",
    "    if len(words) in storage.keys():\n",
    "        storage[len(words)] += 1\n",
    "    else:\n",
    "        storage.update({\n",
    "            len(words): 1\n",
    "        })\n",
    "storage.values()\n",
    "\n",
    "for key, value in storage.items():\n",
    "    percentage = round((value / len(queries)) * 100, 2)\n",
    "    print(f'Поисковых запросов из {key} слова: {percentage}%')"
   ]
  },
  {
   "cell_type": "code",
   "execution_count": 56,
   "metadata": {},
   "outputs": [
    {
     "name": "stdout",
     "output_type": "stream",
     "text": [
      "Результат:\n",
      "[('adwords', {'revenue': 35, 'cost': 34, 'ROI': 2.94}), ('facebook', {'revenue': 103, 'cost': 110, 'ROI': -6.36}), ('twitter', {'revenue': 11, 'cost': 24, 'ROI': -54.17}), ('vk', {'revenue': 103, 'cost': 98, 'ROI': 5.1}), ('yandex', {'revenue': 179, 'cost': 153, 'ROI': 16.99})]\n"
     ]
    }
   ],
   "source": [
    "# не совсем то, что требовалось\n",
    "# подскажите, как поменять местами пары \"во внутренних словарях\", вывод сделать построчным и убрать скобки при выводе.\n",
    "results = {\n",
    "    'vk': {'revenue': 103, 'cost': 98},\n",
    "    'yandex': {'revenue': 179, 'cost': 153},\n",
    "    'facebook': {'revenue': 103, 'cost': 110},\n",
    "    'adwords': {'revenue': 35, 'cost': 34},\n",
    "    'twitter': {'revenue': 11, 'cost': 24},}\n",
    "print('Результат:')\n",
    "for i in results.values():\n",
    "    i.update({'ROI': round(((i['revenue'] / i['cost'] - 1) * 100), 2)})\n",
    "print(sorted(results.items()))\n"
   ]
  },
  {
   "cell_type": "code",
   "execution_count": 60,
   "metadata": {},
   "outputs": [
    {
     "name": "stdout",
     "output_type": "stream",
     "text": [
      "('vk', 120)\n"
     ]
    }
   ],
   "source": [
    "stats = {'facebook': 55, 'yandex': 115, 'vk': 120, 'google': 99, 'email': 42, 'ok': 98}\n",
    "max_stat = max(stats.items(), key=lambda x: x[1])\n",
    "print(max_stat)"
   ]
  }
 ],
 "metadata": {
  "kernelspec": {
   "display_name": "Python 3",
   "language": "python",
   "name": "python3"
  },
  "language_info": {
   "codemirror_mode": {
    "name": "ipython",
    "version": 3
   },
   "file_extension": ".py",
   "mimetype": "text/x-python",
   "name": "python",
   "nbconvert_exporter": "python",
   "pygments_lexer": "ipython3",
   "version": "3.8.5"
  }
 },
 "nbformat": 4,
 "nbformat_minor": 4
}
