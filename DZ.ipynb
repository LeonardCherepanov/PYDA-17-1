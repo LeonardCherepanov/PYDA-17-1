{
 "cells": [
  {
   "cell_type": "code",
   "execution_count": 1,
   "metadata": {},
   "outputs": [
    {
     "name": "stdout",
     "output_type": "stream",
     "text": [
      "Фраза 1 длиннее фразы 2\n"
     ]
    }
   ],
   "source": [
    "phrase_1 = 'Насколько проще было бы писать программы, если бы не заказчики'\n",
    "phrase_2 = '640Кб должно хватить для любых задач. Билл Гейтс (по легенде)'\n",
    "\n",
    "if len (phrase_1) > len (phrase_2):\n",
    "    print ('Фраза 1 длиннее фразы 2')\n",
    "    \n",
    "elif len (phrase_1) < len (phrase_2):\n",
    "    print ('Фраза 2 длиннее фразы 1')\n",
    "    \n",
    "else: \n",
    "    print ('Фразы равной длины')"
   ]
  },
  {
   "cell_type": "code",
   "execution_count": 2,
   "metadata": {},
   "outputs": [
    {
     "name": "stdout",
     "output_type": "stream",
     "text": [
      "Фраза 2 длиннее фразы 1\n"
     ]
    }
   ],
   "source": [
    "phrase_1 = '640Кб должно хватить для любых задач. Билл Гейтс (по легенде)'\n",
    "phrase_2 = 'Насколько проще было бы писать программы, если бы не заказчики'\n",
    "\n",
    "if len (phrase_1) > len (phrase_2):\n",
    "    print ('Фраза 1 длиннее фразы 2')\n",
    "    \n",
    "elif len (phrase_1) < len (phrase_2):\n",
    "    print ('Фраза 2 длиннее фразы 1')\n",
    "    \n",
    "else: \n",
    "    print ('Фразы равной длины')"
   ]
  },
  {
   "cell_type": "code",
   "execution_count": 5,
   "metadata": {},
   "outputs": [
    {
     "name": "stdout",
     "output_type": "stream",
     "text": [
      "Фразы равной длины\n"
     ]
    }
   ],
   "source": [
    "phrase_1 = 'Насколько проще было бы писать программы, если бы не заказчики'\n",
    "phrase_2 = 'Насколько проще было бы писать программы, если бы не заказчики'\n",
    "\n",
    "if len (phrase_1) > len (phrase_2):\n",
    "    print ('Фраза 1 длиннее фразы 2')\n",
    "    \n",
    "elif len (phrase_1) < len (phrase_2):\n",
    "    print ('Фраза 2 длиннее фразы 1')\n",
    "    \n",
    "else: \n",
    "    print ('Фразы равной длины')"
   ]
  },
  {
   "cell_type": "code",
   "execution_count": 6,
   "metadata": {},
   "outputs": [
    {
     "name": "stdout",
     "output_type": "stream",
     "text": [
      "Обычный\n"
     ]
    }
   ],
   "source": [
    "year = 2005\n",
    "\n",
    "if year % 4 == 0:\n",
    "    print ('Високосный год')\n",
    "\n",
    "else:\n",
    "    print ('Обычный')"
   ]
  },
  {
   "cell_type": "code",
   "execution_count": 7,
   "metadata": {},
   "outputs": [
    {
     "name": "stdout",
     "output_type": "stream",
     "text": [
      "Введите день: 1\n",
      "Введите месяц: 1\n",
      "Ваш знак зодиака: Козерог\n"
     ]
    }
   ],
   "source": [
    "day_input = int(input('Введите день: '))\n",
    "month_input = int(input('Введите месяц: '))\n",
    "\n",
    "if (day_input >= 21 and day_input <= 31 and month_input == 3) or (month_input == 4 and day_input >= 1 and day_input <= 19):\n",
    "    print ('Ваш знак зодиака: Овен')\n",
    "\n",
    "elif (day_input >= 20 and day_input <= 30 and month_input == 4) or (month_input == 5 and day_input >= 1 and day_input <= 20):\n",
    "    print ('Ваш знак зодиака: Телец')\n",
    "\n",
    "elif (day_input >= 21 and day_input <= 31 and month_input == 5) or (month_input == 6 and day_input >= 1 and day_input <= 21):\n",
    "    print ('Ваш знак зодиака: Близнецы')\n",
    "\n",
    "elif (day_input >= 22 and day_input <= 30 and month_input == 6) or (month_input == 7 and day_input >= 1 and day_input <= 22):\n",
    "    print ('Ваш знак зодиака: Рак')\n",
    "\n",
    "elif (day_input >= 23 and day_input <= 31 and month_input == 7) or (month_input == 8 and day_input >= 1 and day_input <= 22):\n",
    "    print ('Ваш знак зодиака: Лев')\n",
    "\n",
    "elif (day_input >= 23 and day_input <= 31 and month_input == 8) or (month_input == 9 and day_input >= 1 and day_input <= 22):\n",
    "    print ('Ваш знак зодиака: Дева')\n",
    "\n",
    "elif (day_input >= 23 and day_input <= 30 and month_input == 9) or (month_input == 10 and day_input >= 1 and day_input <= 23):\n",
    "    print ('Ваш знак зодиака: Весы')\n",
    "\n",
    "elif (day_input >= 24 and day_input <= 31 and month_input == 10) or (month_input == 11 and day_input >= 1 and day_input <= 22):\n",
    "    print ('Ваш знак зодиака: Скорпион')\n",
    "\n",
    "elif (day_input >= 23 and day_input <= 30 and month_input == 11) or (month_input == 12 and day_input >= 1 and day_input <= 21):\n",
    "    print ('Ваш знак зодиака: Стрелец')\n",
    "\n",
    "elif (day_input >= 22 and day_input <= 31 and month_input == 12) or (month_input == 1 and day_input >= 1 and day_input <= 20):\n",
    "    print ('Ваш знак зодиака: Козерог')\n",
    "\n",
    "elif (day_input >= 21 and day_input <= 31 and month_input == 1) or (month_input == 2 and day_input >= 1 and day_input <= 18):\n",
    "    print ('Ваш знак зодиака: Водолей')\n",
    "\n",
    "elif (day_input >= 19 and day_input <= 29 and month_input == 2) or (month_input == 3 and day_input >= 1 and day_input <= 20):\n",
    "    print ('Ваш знак зодиака: Рыбы')"
   ]
  },
  {
   "cell_type": "code",
   "execution_count": 1,
   "metadata": {},
   "outputs": [
    {
     "name": "stdout",
     "output_type": "stream",
     "text": [
      "Упаковка для лыж\n"
     ]
    }
   ],
   "source": [
    "width = 10\n",
    "length = 205\n",
    "height = 5\n",
    "\n",
    "if width < 15 and length < 15 and height < 15:\n",
    "    print ('Коробка №1')\n",
    "    \n",
    "elif 50 > width > 15 or 50 > length > 15 or 50 > height > 15:\n",
    "    print ('Коробка №2')\n",
    "    \n",
    "elif length > 200:\n",
    "    print ('Упаковка для лыж')   \n",
    "\n",
    "else:\n",
    "    print ('Стандартная коробка №3')"
   ]
  },
  {
   "cell_type": "code",
   "execution_count": 2,
   "metadata": {},
   "outputs": [
    {
     "name": "stdout",
     "output_type": "stream",
     "text": [
      "123124\n",
      "Обычный билет\n"
     ]
    }
   ],
   "source": [
    "Ticket = str(input())\n",
    "\n",
    "if int(Ticket[0]) + int(Ticket[1]) + int(Ticket[2]) == int(Ticket[3]) + int(Ticket[4]) + int(Ticket[5]):\n",
    "    print('Счастливый билет')\n",
    "else:\n",
    "    print('Обычный билет')"
   ]
  },
  {
   "cell_type": "code",
   "execution_count": 3,
   "metadata": {},
   "outputs": [
    {
     "name": "stdout",
     "output_type": "stream",
     "text": [
      "123123\n",
      "Счастливый билет\n"
     ]
    }
   ],
   "source": [
    "#видел такое решение, просьба помочь разобраться в синтаксисе\n",
    "a = [int(i) for i in input()]\n",
    "\n",
    "if sum(a[:3]) == sum(a[3:]):\n",
    "    print('Счастливый билет')\n",
    "else:\n",
    "    print('Обычный билет')"
   ]
  },
  {
   "cell_type": "code",
   "execution_count": 4,
   "metadata": {},
   "outputs": [
    {
     "name": "stdout",
     "output_type": "stream",
     "text": [
      "Введите тип фигуры: круг\n",
      "Укажите радиус: 3\n",
      "Площадь круга: \n",
      "28.2743338815\n"
     ]
    }
   ],
   "source": [
    "figure = input('Введите тип фигуры: ')\n",
    "\n",
    "if figure == 'круг':\n",
    "    r = float(input('Ввелите радиус круга: '))\n",
    "    print ('Площадь круга: ') \n",
    "    print (3.1415926535 * r ** 2)\n",
    "\n",
    "elif figure == 'треугольник':\n",
    "    a = float(input('Введите длину стороны A:'))\n",
    "    b = float(input('Введите длину стороны B:'))\n",
    "    c = float(input('Введите длину стороны C:'))\n",
    "    p = (a + b + c) / 2\n",
    "    from math import sqrt\n",
    "    print ('Площадь треугольника: ')\n",
    "    print (sqrt(p * (p - a) * (p - b) * (p - c)))\n",
    "    \n",
    "elif figure == 'прямоугольник':\n",
    "    a = float(input('Введите длину стороны A:'))\n",
    "    b = float(input('Введите длину стороны B:'))\n",
    "    print ('Площадь прямоугольника: ')\n",
    "    print (a * b)\n",
    "\n",
    "else:\n",
    "    print('Ошибка')"
   ]
  }
 ],
 "metadata": {
  "kernelspec": {
   "display_name": "Python 3",
   "language": "python",
   "name": "python3"
  },
  "language_info": {
   "codemirror_mode": {
    "name": "ipython",
    "version": 3
   },
   "file_extension": ".py",
   "mimetype": "text/x-python",
   "name": "python",
   "nbconvert_exporter": "python",
   "pygments_lexer": "ipython3",
   "version": "3.8.5"
  }
 },
 "nbformat": 4,
 "nbformat_minor": 4
}
